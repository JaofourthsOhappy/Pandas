{
 "cells": [
  {
   "cell_type": "code",
   "execution_count": 2,
   "metadata": {},
   "outputs": [],
   "source": [
    "import pandas as pd\n",
    "df = pd.read_excel(\"dataupdate.xlsx\",\"weather\",index_col=\"Day\")"
   ]
  },
  {
   "cell_type": "code",
   "execution_count": 6,
   "metadata": {},
   "outputs": [
    {
     "name": "stdout",
     "output_type": "stream",
     "text": [
      "2020-12-01 00:00:00\n",
      "2020-12-02 00:00:00\n",
      "2020-12-03 00:00:00\n",
      "2020-12-04 00:00:00\n",
      "2020-12-05 00:00:00\n",
      "2020-12-06 00:00:00\n",
      "2020-12-07 00:00:00\n",
      "2020-12-08 00:00:00\n",
      "2020-12-09 00:00:00\n",
      "2020-12-10 00:00:00\n",
      "2020-12-11 00:00:00\n",
      "2020-12-12 00:00:00\n",
      "2020-12-13 00:00:00\n",
      "2020-12-14 00:00:00\n",
      "2020-12-15 00:00:00\n",
      "2020-12-16 00:00:00\n",
      "2020-12-17 00:00:00\n",
      "2020-12-18 00:00:00\n",
      "2020-12-19 00:00:00\n",
      "2020-12-20 00:00:00\n",
      "2020-12-21 00:00:00\n",
      "2020-12-22 00:00:00\n",
      "2020-12-23 00:00:00\n",
      "2020-12-24 00:00:00\n",
      "2020-12-25 00:00:00\n",
      "2020-12-26 00:00:00\n",
      "2020-12-27 00:00:00\n",
      "2020-12-28 00:00:00\n",
      "2020-12-29 00:00:00\n",
      "2020-12-30 00:00:00\n"
     ]
    }
   ],
   "source": [
    "for idx,row in df.iterrows():\n",
    "    print(idx)"
   ]
  },
  {
   "cell_type": "code",
   "execution_count": 7,
   "metadata": {},
   "outputs": [
    {
     "name": "stdout",
     "output_type": "stream",
     "text": [
      "Temperature = 30 It will แดดร้อน\n",
      "Temperature = 28 It will เมฆมาก\n",
      "Temperature = 27 It will ฝนตก\n",
      "Temperature = 19 It will แดดร้อน\n",
      "Temperature = 20 It will เมฆมาก\n",
      "Temperature = 25 It will ฝนตก\n",
      "Temperature = 36 It will ฝนตก\n",
      "Temperature = 28 It will ฝนตก\n",
      "Temperature = 17 It will เมฆมาก\n",
      "Temperature = 24 It will แดดร้อน\n",
      "Temperature = 26 It will ฝนตก\n",
      "Temperature = 27 It will แดดร้อน\n",
      "Temperature = 30 It will แดดร้อน\n",
      "Temperature = 31 It will เมฆมาก\n",
      "Temperature = 28 It will แดดร้อน\n",
      "Temperature = 27 It will แดดร้อน\n",
      "Temperature = 20 It will ฝนตก\n",
      "Temperature = 18 It will ฝนตก\n",
      "Temperature = 25 It will แดดร้อน\n",
      "Temperature = 28 It will เมฆมาก\n",
      "Temperature = 25 It will เมฆมาก\n",
      "Temperature = 38 It will เมฆมาก\n",
      "Temperature = 34 It will ฝนตก\n",
      "Temperature = 29 It will ฝนตก\n",
      "Temperature = 34 It will แดดร้อน\n",
      "Temperature = 25 It will ฝนตก\n",
      "Temperature = 28 It will เมฆมาก\n",
      "Temperature = 30 It will เมฆมาก\n",
      "Temperature = 31 It will ฝนตก\n",
      "Temperature = 35 It will ฝนตก\n"
     ]
    }
   ],
   "source": [
    "for idx,row in df.iterrows():\n",
    "    print(\"Temperature = {} It will {}\".format(row.Temperature,row.Event))"
   ]
  }
 ],
 "metadata": {
  "interpreter": {
   "hash": "5f05a96eb8e787bab2f870fdc3b797d97c31e0782df24d9377d2759a63d7ac28"
  },
  "kernelspec": {
   "display_name": "Python 3.8.5 32-bit",
   "language": "python",
   "name": "python3"
  },
  "language_info": {
   "codemirror_mode": {
    "name": "ipython",
    "version": 3
   },
   "file_extension": ".py",
   "mimetype": "text/x-python",
   "name": "python",
   "nbconvert_exporter": "python",
   "pygments_lexer": "ipython3",
   "version": "3.8.5"
  },
  "orig_nbformat": 4
 },
 "nbformat": 4,
 "nbformat_minor": 2
}
